{
  "nbformat": 4,
  "nbformat_minor": 0,
  "metadata": {
    "colab": {
      "name": "Embedding.ipynb",
      "provenance": [],
      "authorship_tag": "ABX9TyOOkpIA9z2UaMj8NUqgidrp",
      "include_colab_link": true
    },
    "kernelspec": {
      "name": "python3",
      "display_name": "Python 3"
    }
  },
  "cells": [
    {
      "cell_type": "markdown",
      "metadata": {
        "id": "view-in-github",
        "colab_type": "text"
      },
      "source": [
        "<a href=\"https://colab.research.google.com/github/subinmun1997/Kakao_chatbot/blob/master/Embedding.ipynb\" target=\"_parent\"><img src=\"https://colab.research.google.com/assets/colab-badge.svg\" alt=\"Open In Colab\"/></a>"
      ]
    },
    {
      "cell_type": "code",
      "metadata": {
        "colab": {
          "base_uri": "https://localhost:8080/"
        },
        "id": "uLKHaHzwcys9",
        "outputId": "fd9fe297-8272-46f7-86f1-59cf104d1016"
      },
      "source": [
        "!pip install konlpy"
      ],
      "execution_count": null,
      "outputs": [
        {
          "output_type": "stream",
          "text": [
            "Collecting konlpy\n",
            "\u001b[?25l  Downloading https://files.pythonhosted.org/packages/85/0e/f385566fec837c0b83f216b2da65db9997b35dd675e107752005b7d392b1/konlpy-0.5.2-py2.py3-none-any.whl (19.4MB)\n",
            "\u001b[K     |████████████████████████████████| 19.4MB 1.2MB/s \n",
            "\u001b[?25hCollecting tweepy>=3.7.0\n",
            "  Downloading https://files.pythonhosted.org/packages/67/c3/6bed87f3b1e5ed2f34bd58bf7978e308c86e255193916be76e5a5ce5dfca/tweepy-3.10.0-py2.py3-none-any.whl\n",
            "Requirement already satisfied: lxml>=4.1.0 in /usr/local/lib/python3.6/dist-packages (from konlpy) (4.2.6)\n",
            "Collecting JPype1>=0.7.0\n",
            "\u001b[?25l  Downloading https://files.pythonhosted.org/packages/de/af/93f92b38ec1ff3091cd38982ed19cea2800fefb609b5801c41fc43c0781e/JPype1-1.2.1-cp36-cp36m-manylinux2010_x86_64.whl (457kB)\n",
            "\u001b[K     |████████████████████████████████| 460kB 42.9MB/s \n",
            "\u001b[?25hCollecting beautifulsoup4==4.6.0\n",
            "\u001b[?25l  Downloading https://files.pythonhosted.org/packages/9e/d4/10f46e5cfac773e22707237bfcd51bbffeaf0a576b0a847ec7ab15bd7ace/beautifulsoup4-4.6.0-py3-none-any.whl (86kB)\n",
            "\u001b[K     |████████████████████████████████| 92kB 8.7MB/s \n",
            "\u001b[?25hCollecting colorama\n",
            "  Downloading https://files.pythonhosted.org/packages/44/98/5b86278fbbf250d239ae0ecb724f8572af1c91f4a11edf4d36a206189440/colorama-0.4.4-py2.py3-none-any.whl\n",
            "Requirement already satisfied: numpy>=1.6 in /usr/local/lib/python3.6/dist-packages (from konlpy) (1.19.5)\n",
            "Requirement already satisfied: requests[socks]>=2.11.1 in /usr/local/lib/python3.6/dist-packages (from tweepy>=3.7.0->konlpy) (2.23.0)\n",
            "Requirement already satisfied: six>=1.10.0 in /usr/local/lib/python3.6/dist-packages (from tweepy>=3.7.0->konlpy) (1.15.0)\n",
            "Requirement already satisfied: requests-oauthlib>=0.7.0 in /usr/local/lib/python3.6/dist-packages (from tweepy>=3.7.0->konlpy) (1.3.0)\n",
            "Requirement already satisfied: typing-extensions; python_version < \"3.8\" in /usr/local/lib/python3.6/dist-packages (from JPype1>=0.7.0->konlpy) (3.7.4.3)\n",
            "Requirement already satisfied: certifi>=2017.4.17 in /usr/local/lib/python3.6/dist-packages (from requests[socks]>=2.11.1->tweepy>=3.7.0->konlpy) (2020.12.5)\n",
            "Requirement already satisfied: urllib3!=1.25.0,!=1.25.1,<1.26,>=1.21.1 in /usr/local/lib/python3.6/dist-packages (from requests[socks]>=2.11.1->tweepy>=3.7.0->konlpy) (1.24.3)\n",
            "Requirement already satisfied: idna<3,>=2.5 in /usr/local/lib/python3.6/dist-packages (from requests[socks]>=2.11.1->tweepy>=3.7.0->konlpy) (2.10)\n",
            "Requirement already satisfied: chardet<4,>=3.0.2 in /usr/local/lib/python3.6/dist-packages (from requests[socks]>=2.11.1->tweepy>=3.7.0->konlpy) (3.0.4)\n",
            "Requirement already satisfied: PySocks!=1.5.7,>=1.5.6; extra == \"socks\" in /usr/local/lib/python3.6/dist-packages (from requests[socks]>=2.11.1->tweepy>=3.7.0->konlpy) (1.7.1)\n",
            "Requirement already satisfied: oauthlib>=3.0.0 in /usr/local/lib/python3.6/dist-packages (from requests-oauthlib>=0.7.0->tweepy>=3.7.0->konlpy) (3.1.0)\n",
            "Installing collected packages: tweepy, JPype1, beautifulsoup4, colorama, konlpy\n",
            "  Found existing installation: tweepy 3.6.0\n",
            "    Uninstalling tweepy-3.6.0:\n",
            "      Successfully uninstalled tweepy-3.6.0\n",
            "  Found existing installation: beautifulsoup4 4.6.3\n",
            "    Uninstalling beautifulsoup4-4.6.3:\n",
            "      Successfully uninstalled beautifulsoup4-4.6.3\n",
            "Successfully installed JPype1-1.2.1 beautifulsoup4-4.6.0 colorama-0.4.4 konlpy-0.5.2 tweepy-3.10.0\n"
          ],
          "name": "stdout"
        }
      ]
    },
    {
      "cell_type": "code",
      "metadata": {
        "colab": {
          "base_uri": "https://localhost:8080/"
        },
        "id": "Ve44HbP0c8GM",
        "outputId": "9e7016d8-bc39-4fac-e746-3c9b6e6d3ccd"
      },
      "source": [
        "from konlpy.tag import Komoran\r\n",
        "import numpy as np\r\n",
        "\r\n",
        "komoran = Komoran()\r\n",
        "text = \"오늘 날씨는 구름이 많아요.\"\r\n",
        "\r\n",
        "# 명사만 추출\r\n",
        "nouns = komoran.nouns(text)\r\n",
        "print(nouns)\r\n",
        "\r\n",
        "# 단어 사전 구축 및 단어별 인덱스 부여\r\n",
        "dics={}\r\n",
        "for word in nouns:\r\n",
        "  if word not in dics.keys(): #이미 저장된 단어는 다시 사전에 저장하지 않기 위함.\r\n",
        "    dics[word] = len(dics)\r\n",
        "print(dics)\r\n",
        "\r\n",
        "# 원-핫 인코딩\r\n",
        "nb_classes = len(dics) # 원-핫 벡터 차원의 크기 결정\r\n",
        "targets = list(dics.values())\r\n",
        "one_hot_targets = np.eye(nb_classes)[targets] # eye() 함수의 인자 크기대로 단위행렬을 반환하며, eye() 함수 뒤에 붙은 [targets]를 이용해 생성된 단위행렬의 순서를 단어 사전의 순서에 맞게 정렬해준다.\r\n",
        "print(one_hot_targets)\r\n"
      ],
      "execution_count": null,
      "outputs": [
        {
          "output_type": "stream",
          "text": [
            "['오늘', '날씨', '구름']\n",
            "{'오늘': 0, '날씨': 1, '구름': 2}\n"
          ],
          "name": "stdout"
        }
      ]
    },
    {
      "cell_type": "code",
      "metadata": {
        "colab": {
          "base_uri": "https://localhost:8080/"
        },
        "id": "VLiHYnI94Rwh",
        "outputId": "9bd8b690-0c74-4715-f0bc-727df23cbbae"
      },
      "source": [
        "from gensim.models import Word2Vec\r\n",
        "from konlpy.tag import Komoran\r\n",
        "import time\r\n",
        "\r\n",
        "def read_review_data(filename):\r\n",
        "  with open(filename,'r') as f:\r\n",
        "    data = [line.split('\\t') for line in f.read().splitlines()]\r\n",
        "    data = data[1:]\r\n",
        "  return data\r\n",
        "\r\n",
        "start = time.time()\r\n",
        "\r\n",
        "print('1) 말뭉치 데이터 읽기 시작')\r\n",
        "review_data = read_review_data('./ratings.txt')\r\n",
        "print(len(review_data))\r\n",
        "print('1) 말뭉치 데이터 읽기 완료 : ', time.time() - start)\r\n",
        "\r\n",
        "print('2) 형태소에서 명사만 추출 시작')\r\n",
        "komoran = Komoran()\r\n",
        "docs = [komoran.nouns(sentence[1]) for sentence in review_data]\r\n",
        "print('2) 형태소에서 명사만 추출 완료 : ', time.time() - start)\r\n",
        "\r\n",
        "print('3) Word2Vec 모델 학습 시작')\r\n",
        "model = Word2Vec(sentences=docs, size=200, window=4, hs=1, min_count=2, sg=1)\r\n",
        "print('3) Word2Vec 모델 학습 완료 : ', time.time() - start)\r\n",
        "\r\n",
        "print('4) 학습된 모델 저장 시작')\r\n",
        "model.save('nvmc.model')\r\n",
        "print('4) 학습된 모델 저장 완료 : ', time.time() - start)\r\n",
        "\r\n",
        "print('corpus_count : ', model.corpus_count)\r\n",
        "print('corpus_total_words : ', model.corpus_total_words)\r\n"
      ],
      "execution_count": 10,
      "outputs": [
        {
          "output_type": "stream",
          "text": [
            "1) 말뭉치 데이터 읽기 시작\n",
            "200000\n",
            "1) 말뭉치 데이터 읽기 완료 :  0.668705940246582\n",
            "2) 형태소에서 명사만 추출 시작\n",
            "2) 형태소에서 명사만 추출 완료 :  132.4915473461151\n",
            "3) Word2Vec 모델 학습 시작\n",
            "3) Word2Vec 모델 학습 완료 :  182.4368908405304\n",
            "4) 학습된 모델 저장 시작\n",
            "4) 학습된 모델 저장 완료 :  184.13396549224854\n",
            "corpus_count :  200000\n",
            "corpus_total_words :  1076896\n"
          ],
          "name": "stdout"
        }
      ]
    },
    {
      "cell_type": "code",
      "metadata": {
        "colab": {
          "base_uri": "https://localhost:8080/"
        },
        "id": "_LQ_umNW-rPi",
        "outputId": "0fc1b404-b55f-4711-f3a0-e9b186640c8e"
      },
      "source": [
        "from gensim.models import Word2Vec\r\n",
        "\r\n",
        "model = Word2Vec.load('nvmc.model')\r\n",
        "print(\"corpus_total_words : \", model.corpus_total_words)\r\n",
        "\r\n",
        "print('사랑 : ', model.wv['사랑'])\r\n",
        "\r\n",
        "print(\"일요일 = 월요일\\t\", model.wv.similarity(w1='일요일', w2='월요일'))\r\n",
        "print(\"안성기 = 배우\\t\", model.wv.similarity(w1='안성기', w2='배우'))\r\n",
        "print(\"대기업 = 삼성\\t\", model.wv.similarity(w1='대기업', w2='삼성'))\r\n",
        "print(\"일요일 != 삼성\\t\", model.wv.similarity(w1='일요일', w2='삼성'))\r\n",
        "print(\"히어로 != 삼성\\t\", model.wv.similarity(w1='히어로', w2='삼성'))\r\n",
        "\r\n",
        "print(model.wv.most_similar(\"안성기\", topn=5))\r\n",
        "print(model.wv.most_similar(\"시리즈\", topn=5))"
      ],
      "execution_count": 11,
      "outputs": [
        {
          "output_type": "stream",
          "text": [
            "corpus_total_words :  1076896\n",
            "사랑 :  [-0.02827938  0.24900363 -0.17512138  0.6210899  -0.3314337  -0.15538982\n",
            "  0.2909418   0.04805886  0.2435722  -0.3477459  -0.3149157   0.18925244\n",
            " -0.11251917  0.10376599  0.1921723  -0.10258646  0.04632262 -0.14551203\n",
            "  0.23103102  0.04323523  0.0713856   0.1663442   0.1844679   0.23317616\n",
            " -0.25802755 -0.12826663  0.25148144 -0.13413396  0.24675131  0.03333859\n",
            "  0.10242141 -0.07670885 -0.02714112 -0.15807842  0.38307896  0.26428843\n",
            "  0.03128818  0.10059258  0.15300627 -0.4115303  -0.24056952  0.02982649\n",
            "  0.16398722  0.1606651  -0.05351922  0.08212461  0.31000745 -0.12918471\n",
            "  0.13638377 -0.01569323  0.18337773 -0.20521867 -0.06292526 -0.17809458\n",
            " -0.20780419  0.17584495 -0.28928357  0.06059166 -0.06441467  0.42964348\n",
            "  0.14791939  0.05892763 -0.01454129  0.03029578  0.31331298 -0.09613602\n",
            "  0.22997895 -0.09038579  0.0691096  -0.1895051   0.05484347 -0.00147987\n",
            " -0.31228215  0.120682   -0.11801404  0.10228568  0.18088444 -0.07271176\n",
            " -0.05614245  0.33567652  0.09802149 -0.013366   -0.02053868  0.25485307\n",
            " -0.01541855 -0.10362034 -0.09325182  0.08257585  0.07413871  0.22208077\n",
            " -0.15245137  0.14640993  0.05579437  0.09066679 -0.11621868  0.20659688\n",
            "  0.07363889  0.14801545 -0.1831603   0.06198357  0.21575786  0.11831409\n",
            "  0.3046255  -0.3402953  -0.01440916 -0.2050914   0.11335983 -0.13919374\n",
            "  0.09421846  0.02703163 -0.35152563 -0.18182953  0.07001061  0.0826754\n",
            "  0.5176868   0.11028127 -0.3098763  -0.27621615 -0.14555994  0.15358272\n",
            " -0.01414294 -0.23000614  0.16862018 -0.15052827 -0.01990669  0.16324869\n",
            " -0.0551788  -0.09553608  0.14413822 -0.12969914  0.10838623 -0.29620725\n",
            "  0.1526093  -0.31859276  0.04373023 -0.03165736  0.1865049   0.12623976\n",
            " -0.266259    0.2829438  -0.08932723 -0.20057067  0.2615581   0.06248459\n",
            "  0.3159412  -0.05376962  0.02277751  0.26929298 -0.06923675  0.5719981\n",
            "  0.18070993  0.04345015  0.29551062  0.06946424  0.10591145 -0.16109383\n",
            " -0.02087544  0.00200224 -0.24843763  0.11185925  0.12688078  0.16761549\n",
            "  0.07306828  0.0614769  -0.16687733 -0.16096775 -0.11289103  0.03569693\n",
            " -0.50287914  0.16544671  0.02807621  0.00299129 -0.03444393  0.10848919\n",
            "  0.12952034 -0.16217425 -0.06898257  0.22074005 -0.07033141 -0.14369059\n",
            " -0.24786389  0.26261356  0.01618296 -0.5100571   0.45406568  0.49313858\n",
            " -0.06317732 -0.23872235  0.28057882 -0.19208193 -0.0281075   0.15456945\n",
            "  0.10395563 -0.43318176  0.05569838 -0.25119844  0.08393774 -0.00353353\n",
            "  0.06658334 -0.399481  ]\n",
            "일요일 = 월요일\t 0.7051659\n",
            "안성기 = 배우\t 0.5125418\n",
            "대기업 = 삼성\t 0.5713731\n",
            "일요일 != 삼성\t 0.25115347\n",
            "히어로 != 삼성\t 0.18499316\n",
            "[('이희준', 0.715511679649353), ('씨야', 0.7150174975395203), ('김정학', 0.7093788385391235), ('정려원', 0.6984686255455017), ('장미희', 0.6967580914497375)]\n",
            "[('캐리비안의 해적', 0.6736114025115967), ('더 울버린', 0.654276430606842), ('잭 라이언', 0.6466361284255981), ('X맨', 0.6465228199958801), ('나니아 연대기', 0.6424496173858643)]\n"
          ],
          "name": "stdout"
        }
      ]
    }
  ]
}