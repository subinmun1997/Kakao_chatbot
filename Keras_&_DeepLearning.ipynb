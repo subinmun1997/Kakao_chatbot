{
  "nbformat": 4,
  "nbformat_minor": 0,
  "metadata": {
    "colab": {
      "name": "Keras & DeepLearning.ipynb",
      "provenance": [],
      "authorship_tag": "ABX9TyNbAk1KQTa/kUDdt3VWvFBR",
      "include_colab_link": true
    },
    "kernelspec": {
      "name": "python3",
      "display_name": "Python 3"
    }
  },
  "cells": [
    {
      "cell_type": "markdown",
      "metadata": {
        "id": "view-in-github",
        "colab_type": "text"
      },
      "source": [
        "<a href=\"https://colab.research.google.com/github/subinmun1997/Kakao_chatbot/blob/master/Keras_%26_DeepLearning.ipynb\" target=\"_parent\"><img src=\"https://colab.research.google.com/assets/colab-badge.svg\" alt=\"Open In Colab\"/></a>"
      ]
    },
    {
      "cell_type": "code",
      "metadata": {
        "colab": {
          "base_uri": "https://localhost:8080/"
        },
        "id": "WoBcHq3KVwJY",
        "outputId": "340ca30f-16ad-423a-c297-7d654075936c"
      },
      "source": [
        "!pip install konlpy"
      ],
      "execution_count": 1,
      "outputs": [
        {
          "output_type": "stream",
          "text": [
            "Collecting konlpy\n",
            "\u001b[?25l  Downloading https://files.pythonhosted.org/packages/85/0e/f385566fec837c0b83f216b2da65db9997b35dd675e107752005b7d392b1/konlpy-0.5.2-py2.py3-none-any.whl (19.4MB)\n",
            "\u001b[K     |████████████████████████████████| 19.4MB 1.4MB/s \n",
            "\u001b[?25hCollecting JPype1>=0.7.0\n",
            "\u001b[?25l  Downloading https://files.pythonhosted.org/packages/de/af/93f92b38ec1ff3091cd38982ed19cea2800fefb609b5801c41fc43c0781e/JPype1-1.2.1-cp36-cp36m-manylinux2010_x86_64.whl (457kB)\n",
            "\u001b[K     |████████████████████████████████| 460kB 35.1MB/s \n",
            "\u001b[?25hRequirement already satisfied: numpy>=1.6 in /usr/local/lib/python3.6/dist-packages (from konlpy) (1.19.5)\n",
            "Collecting tweepy>=3.7.0\n",
            "  Downloading https://files.pythonhosted.org/packages/67/c3/6bed87f3b1e5ed2f34bd58bf7978e308c86e255193916be76e5a5ce5dfca/tweepy-3.10.0-py2.py3-none-any.whl\n",
            "Requirement already satisfied: lxml>=4.1.0 in /usr/local/lib/python3.6/dist-packages (from konlpy) (4.2.6)\n",
            "Collecting colorama\n",
            "  Downloading https://files.pythonhosted.org/packages/44/98/5b86278fbbf250d239ae0ecb724f8572af1c91f4a11edf4d36a206189440/colorama-0.4.4-py2.py3-none-any.whl\n",
            "Collecting beautifulsoup4==4.6.0\n",
            "\u001b[?25l  Downloading https://files.pythonhosted.org/packages/9e/d4/10f46e5cfac773e22707237bfcd51bbffeaf0a576b0a847ec7ab15bd7ace/beautifulsoup4-4.6.0-py3-none-any.whl (86kB)\n",
            "\u001b[K     |████████████████████████████████| 92kB 7.1MB/s \n",
            "\u001b[?25hRequirement already satisfied: typing-extensions; python_version < \"3.8\" in /usr/local/lib/python3.6/dist-packages (from JPype1>=0.7.0->konlpy) (3.7.4.3)\n",
            "Requirement already satisfied: requests-oauthlib>=0.7.0 in /usr/local/lib/python3.6/dist-packages (from tweepy>=3.7.0->konlpy) (1.3.0)\n",
            "Requirement already satisfied: requests[socks]>=2.11.1 in /usr/local/lib/python3.6/dist-packages (from tweepy>=3.7.0->konlpy) (2.23.0)\n",
            "Requirement already satisfied: six>=1.10.0 in /usr/local/lib/python3.6/dist-packages (from tweepy>=3.7.0->konlpy) (1.15.0)\n",
            "Requirement already satisfied: oauthlib>=3.0.0 in /usr/local/lib/python3.6/dist-packages (from requests-oauthlib>=0.7.0->tweepy>=3.7.0->konlpy) (3.1.0)\n",
            "Requirement already satisfied: urllib3!=1.25.0,!=1.25.1,<1.26,>=1.21.1 in /usr/local/lib/python3.6/dist-packages (from requests[socks]>=2.11.1->tweepy>=3.7.0->konlpy) (1.24.3)\n",
            "Requirement already satisfied: idna<3,>=2.5 in /usr/local/lib/python3.6/dist-packages (from requests[socks]>=2.11.1->tweepy>=3.7.0->konlpy) (2.10)\n",
            "Requirement already satisfied: certifi>=2017.4.17 in /usr/local/lib/python3.6/dist-packages (from requests[socks]>=2.11.1->tweepy>=3.7.0->konlpy) (2020.12.5)\n",
            "Requirement already satisfied: chardet<4,>=3.0.2 in /usr/local/lib/python3.6/dist-packages (from requests[socks]>=2.11.1->tweepy>=3.7.0->konlpy) (3.0.4)\n",
            "Requirement already satisfied: PySocks!=1.5.7,>=1.5.6; extra == \"socks\" in /usr/local/lib/python3.6/dist-packages (from requests[socks]>=2.11.1->tweepy>=3.7.0->konlpy) (1.7.1)\n",
            "Installing collected packages: JPype1, tweepy, colorama, beautifulsoup4, konlpy\n",
            "  Found existing installation: tweepy 3.6.0\n",
            "    Uninstalling tweepy-3.6.0:\n",
            "      Successfully uninstalled tweepy-3.6.0\n",
            "  Found existing installation: beautifulsoup4 4.6.3\n",
            "    Uninstalling beautifulsoup4-4.6.3:\n",
            "      Successfully uninstalled beautifulsoup4-4.6.3\n",
            "Successfully installed JPype1-1.2.1 beautifulsoup4-4.6.0 colorama-0.4.4 konlpy-0.5.2 tweepy-3.10.0\n"
          ],
          "name": "stdout"
        }
      ]
    },
    {
      "cell_type": "code",
      "metadata": {
        "colab": {
          "base_uri": "https://localhost:8080/"
        },
        "id": "acQTe1NuV7dx",
        "outputId": "1c06d394-2cf3-4be9-c16f-fdd1f9d9bae5"
      },
      "source": [
        "!pip install selenium"
      ],
      "execution_count": 3,
      "outputs": [
        {
          "output_type": "stream",
          "text": [
            "Collecting selenium\n",
            "\u001b[?25l  Downloading https://files.pythonhosted.org/packages/80/d6/4294f0b4bce4de0abf13e17190289f9d0613b0a44e5dd6a7f5ca98459853/selenium-3.141.0-py2.py3-none-any.whl (904kB)\n",
            "\r\u001b[K     |▍                               | 10kB 16.8MB/s eta 0:00:01\r\u001b[K     |▊                               | 20kB 23.6MB/s eta 0:00:01\r\u001b[K     |█                               | 30kB 17.6MB/s eta 0:00:01\r\u001b[K     |█▌                              | 40kB 14.7MB/s eta 0:00:01\r\u001b[K     |█▉                              | 51kB 16.4MB/s eta 0:00:01\r\u001b[K     |██▏                             | 61kB 17.6MB/s eta 0:00:01\r\u001b[K     |██▌                             | 71kB 12.9MB/s eta 0:00:01\r\u001b[K     |███                             | 81kB 13.8MB/s eta 0:00:01\r\u001b[K     |███▎                            | 92kB 11.7MB/s eta 0:00:01\r\u001b[K     |███▋                            | 102kB 11.4MB/s eta 0:00:01\r\u001b[K     |████                            | 112kB 11.4MB/s eta 0:00:01\r\u001b[K     |████▍                           | 122kB 11.4MB/s eta 0:00:01\r\u001b[K     |████▊                           | 133kB 11.4MB/s eta 0:00:01\r\u001b[K     |█████                           | 143kB 11.4MB/s eta 0:00:01\r\u001b[K     |█████▍                          | 153kB 11.4MB/s eta 0:00:01\r\u001b[K     |█████▉                          | 163kB 11.4MB/s eta 0:00:01\r\u001b[K     |██████▏                         | 174kB 11.4MB/s eta 0:00:01\r\u001b[K     |██████▌                         | 184kB 11.4MB/s eta 0:00:01\r\u001b[K     |██████▉                         | 194kB 11.4MB/s eta 0:00:01\r\u001b[K     |███████▎                        | 204kB 11.4MB/s eta 0:00:01\r\u001b[K     |███████▋                        | 215kB 11.4MB/s eta 0:00:01\r\u001b[K     |████████                        | 225kB 11.4MB/s eta 0:00:01\r\u001b[K     |████████▎                       | 235kB 11.4MB/s eta 0:00:01\r\u001b[K     |████████▊                       | 245kB 11.4MB/s eta 0:00:01\r\u001b[K     |█████████                       | 256kB 11.4MB/s eta 0:00:01\r\u001b[K     |█████████▍                      | 266kB 11.4MB/s eta 0:00:01\r\u001b[K     |█████████▉                      | 276kB 11.4MB/s eta 0:00:01\r\u001b[K     |██████████▏                     | 286kB 11.4MB/s eta 0:00:01\r\u001b[K     |██████████▌                     | 296kB 11.4MB/s eta 0:00:01\r\u001b[K     |██████████▉                     | 307kB 11.4MB/s eta 0:00:01\r\u001b[K     |███████████▎                    | 317kB 11.4MB/s eta 0:00:01\r\u001b[K     |███████████▋                    | 327kB 11.4MB/s eta 0:00:01\r\u001b[K     |████████████                    | 337kB 11.4MB/s eta 0:00:01\r\u001b[K     |████████████▎                   | 348kB 11.4MB/s eta 0:00:01\r\u001b[K     |████████████▊                   | 358kB 11.4MB/s eta 0:00:01\r\u001b[K     |█████████████                   | 368kB 11.4MB/s eta 0:00:01\r\u001b[K     |█████████████▍                  | 378kB 11.4MB/s eta 0:00:01\r\u001b[K     |█████████████▊                  | 389kB 11.4MB/s eta 0:00:01\r\u001b[K     |██████████████▏                 | 399kB 11.4MB/s eta 0:00:01\r\u001b[K     |██████████████▌                 | 409kB 11.4MB/s eta 0:00:01\r\u001b[K     |██████████████▉                 | 419kB 11.4MB/s eta 0:00:01\r\u001b[K     |███████████████▏                | 430kB 11.4MB/s eta 0:00:01\r\u001b[K     |███████████████▋                | 440kB 11.4MB/s eta 0:00:01\r\u001b[K     |████████████████                | 450kB 11.4MB/s eta 0:00:01\r\u001b[K     |████████████████▎               | 460kB 11.4MB/s eta 0:00:01\r\u001b[K     |████████████████▋               | 471kB 11.4MB/s eta 0:00:01\r\u001b[K     |█████████████████               | 481kB 11.4MB/s eta 0:00:01\r\u001b[K     |█████████████████▍              | 491kB 11.4MB/s eta 0:00:01\r\u001b[K     |█████████████████▊              | 501kB 11.4MB/s eta 0:00:01\r\u001b[K     |██████████████████▏             | 512kB 11.4MB/s eta 0:00:01\r\u001b[K     |██████████████████▌             | 522kB 11.4MB/s eta 0:00:01\r\u001b[K     |██████████████████▉             | 532kB 11.4MB/s eta 0:00:01\r\u001b[K     |███████████████████▏            | 542kB 11.4MB/s eta 0:00:01\r\u001b[K     |███████████████████▋            | 552kB 11.4MB/s eta 0:00:01\r\u001b[K     |████████████████████            | 563kB 11.4MB/s eta 0:00:01\r\u001b[K     |████████████████████▎           | 573kB 11.4MB/s eta 0:00:01\r\u001b[K     |████████████████████▋           | 583kB 11.4MB/s eta 0:00:01\r\u001b[K     |█████████████████████           | 593kB 11.4MB/s eta 0:00:01\r\u001b[K     |█████████████████████▍          | 604kB 11.4MB/s eta 0:00:01\r\u001b[K     |█████████████████████▊          | 614kB 11.4MB/s eta 0:00:01\r\u001b[K     |██████████████████████          | 624kB 11.4MB/s eta 0:00:01\r\u001b[K     |██████████████████████▌         | 634kB 11.4MB/s eta 0:00:01\r\u001b[K     |██████████████████████▉         | 645kB 11.4MB/s eta 0:00:01\r\u001b[K     |███████████████████████▏        | 655kB 11.4MB/s eta 0:00:01\r\u001b[K     |███████████████████████▌        | 665kB 11.4MB/s eta 0:00:01\r\u001b[K     |████████████████████████        | 675kB 11.4MB/s eta 0:00:01\r\u001b[K     |████████████████████████▎       | 686kB 11.4MB/s eta 0:00:01\r\u001b[K     |████████████████████████▋       | 696kB 11.4MB/s eta 0:00:01\r\u001b[K     |█████████████████████████       | 706kB 11.4MB/s eta 0:00:01\r\u001b[K     |█████████████████████████▍      | 716kB 11.4MB/s eta 0:00:01\r\u001b[K     |█████████████████████████▊      | 727kB 11.4MB/s eta 0:00:01\r\u001b[K     |██████████████████████████      | 737kB 11.4MB/s eta 0:00:01\r\u001b[K     |██████████████████████████▍     | 747kB 11.4MB/s eta 0:00:01\r\u001b[K     |██████████████████████████▉     | 757kB 11.4MB/s eta 0:00:01\r\u001b[K     |███████████████████████████▏    | 768kB 11.4MB/s eta 0:00:01\r\u001b[K     |███████████████████████████▌    | 778kB 11.4MB/s eta 0:00:01\r\u001b[K     |████████████████████████████    | 788kB 11.4MB/s eta 0:00:01\r\u001b[K     |████████████████████████████▎   | 798kB 11.4MB/s eta 0:00:01\r\u001b[K     |████████████████████████████▋   | 808kB 11.4MB/s eta 0:00:01\r\u001b[K     |█████████████████████████████   | 819kB 11.4MB/s eta 0:00:01\r\u001b[K     |█████████████████████████████▍  | 829kB 11.4MB/s eta 0:00:01\r\u001b[K     |█████████████████████████████▊  | 839kB 11.4MB/s eta 0:00:01\r\u001b[K     |██████████████████████████████  | 849kB 11.4MB/s eta 0:00:01\r\u001b[K     |██████████████████████████████▍ | 860kB 11.4MB/s eta 0:00:01\r\u001b[K     |██████████████████████████████▉ | 870kB 11.4MB/s eta 0:00:01\r\u001b[K     |███████████████████████████████▏| 880kB 11.4MB/s eta 0:00:01\r\u001b[K     |███████████████████████████████▌| 890kB 11.4MB/s eta 0:00:01\r\u001b[K     |███████████████████████████████▉| 901kB 11.4MB/s eta 0:00:01\r\u001b[K     |████████████████████████████████| 911kB 11.4MB/s \n",
            "\u001b[?25hRequirement already satisfied: urllib3 in /usr/local/lib/python3.6/dist-packages (from selenium) (1.24.3)\n",
            "Installing collected packages: selenium\n",
            "Successfully installed selenium-3.141.0\n"
          ],
          "name": "stdout"
        }
      ]
    },
    {
      "cell_type": "code",
      "metadata": {
        "colab": {
          "base_uri": "https://localhost:8080/",
          "height": 960
        },
        "id": "dE7ohswAbglL",
        "outputId": "ef292b46-0e63-4866-cb6e-4ea60470a12c"
      },
      "source": [
        "# 필요한 모듈 임포트\r\n",
        "import tensorflow as tf\r\n",
        "import matplotlib.pyplot as plt\r\n",
        "from tensorflow.keras.datasets import mnist\r\n",
        "from tensorflow.keras.models import Sequential\r\n",
        "from tensorflow.keras.layers import Flatten, Dense\r\n",
        "\r\n",
        "# MNIST 데이터셋 가져오기\r\n",
        "(x_train, y_train), (x_test, y_test) = mnist.load_data()\r\n",
        "# 데이터 정규화\r\n",
        "x_train, x_test = x_train / 255.0, x_test / 255.0 \r\n",
        "\r\n",
        "# tf.data를 사용하여 데이터셋을 섞고 배치 만들기\r\n",
        "ds = tf.data.Dataset.from_tensor_slices((x_train, y_train)).shuffle(10000)\r\n",
        "train_size = int(len(x_train) * 0.7) # 학습셋:검증셋 = 7:3\r\n",
        "train_ds = ds.take(train_size).batch(20)\r\n",
        "val_ds = ds.skip(train_size).batch(20)\r\n",
        "\r\n",
        "# MNIST 분류 모델 구성\r\n",
        "model = Sequential()\r\n",
        "model.add(Flatten(input_shape=(28, 28)))\r\n",
        "model.add(Dense(20, activation='relu'))\r\n",
        "model.add(Dense(20, activation='relu'))\r\n",
        "model.add(Dense(10, activation='softmax'))\r\n",
        "\r\n",
        "# 모델 생성\r\n",
        "model.compile(loss='sparse_categorical_crossentropy', optimizer='sgd', metrics=['accuracy'])\r\n",
        "\r\n",
        "# 모델 학습\r\n",
        "hist = model.fit(train_ds, validation_data=val_ds, epochs=10)\r\n",
        "\r\n",
        "# 모델 평가\r\n",
        "print('모델 평가')\r\n",
        "model.evaluate(x_test, y_test)\r\n",
        "\r\n",
        "# 모델 정보 출력\r\n",
        "model.summary()\r\n",
        "\r\n",
        "# 모델 저장\r\n",
        "model.save('mnist_model.h5')\r\n",
        "\r\n",
        "# 학습 결과 그래프 그리기\r\n",
        "fig, loss_ax = plt.subplots()\r\n",
        "acc_ax = loss_ax.twinx()\r\n",
        "\r\n",
        "loss_ax.plot(hist.history['loss'], 'y', label='train loss')\r\n",
        "loss_ax.plot(hist.history['val_loss'], 'r', label='val loss')\r\n",
        "\r\n",
        "acc_ax.plot(hist.history['accuracy'], 'b', label='train acc')\r\n",
        "acc_ax.plot(hist.history['val_accuracy'], 'g', label='val acc')\r\n",
        "\r\n",
        "loss_ax.set_xlabel('epoch')\r\n",
        "loss_ax.set_ylabel('loss')\r\n",
        "acc_ax.set_ylabel('accuracy')\r\n",
        "\r\n",
        "loss_ax.legend(loc='upper left')\r\n",
        "acc_ax.legend(loc='lower left')\r\n",
        "plt.show()"
      ],
      "execution_count": 3,
      "outputs": [
        {
          "output_type": "stream",
          "text": [
            "Epoch 1/10\n",
            "2100/2100 [==============================] - 4s 2ms/step - loss: 1.3288 - accuracy: 0.5723 - val_loss: 0.3918 - val_accuracy: 0.8844\n",
            "Epoch 2/10\n",
            "2100/2100 [==============================] - 4s 2ms/step - loss: 0.3792 - accuracy: 0.8909 - val_loss: 0.3147 - val_accuracy: 0.9076\n",
            "Epoch 3/10\n",
            "2100/2100 [==============================] - 4s 2ms/step - loss: 0.3081 - accuracy: 0.9113 - val_loss: 0.2829 - val_accuracy: 0.9187\n",
            "Epoch 4/10\n",
            "2100/2100 [==============================] - 4s 2ms/step - loss: 0.2851 - accuracy: 0.9171 - val_loss: 0.2602 - val_accuracy: 0.9231\n",
            "Epoch 5/10\n",
            "2100/2100 [==============================] - 4s 2ms/step - loss: 0.2513 - accuracy: 0.9259 - val_loss: 0.2408 - val_accuracy: 0.9292\n",
            "Epoch 6/10\n",
            "2100/2100 [==============================] - 4s 2ms/step - loss: 0.2288 - accuracy: 0.9314 - val_loss: 0.2216 - val_accuracy: 0.9349\n",
            "Epoch 7/10\n",
            "2100/2100 [==============================] - 4s 2ms/step - loss: 0.2135 - accuracy: 0.9379 - val_loss: 0.2075 - val_accuracy: 0.9412\n",
            "Epoch 8/10\n",
            "2100/2100 [==============================] - 4s 2ms/step - loss: 0.1989 - accuracy: 0.9423 - val_loss: 0.1998 - val_accuracy: 0.9423\n",
            "Epoch 9/10\n",
            "2100/2100 [==============================] - 4s 2ms/step - loss: 0.1879 - accuracy: 0.9438 - val_loss: 0.1944 - val_accuracy: 0.9446\n",
            "Epoch 10/10\n",
            "2100/2100 [==============================] - 4s 2ms/step - loss: 0.1813 - accuracy: 0.9458 - val_loss: 0.1805 - val_accuracy: 0.9478\n",
            "모델 평가\n",
            "313/313 [==============================] - 1s 1ms/step - loss: 0.1819 - accuracy: 0.9464\n",
            "Model: \"sequential_1\"\n",
            "_________________________________________________________________\n",
            "Layer (type)                 Output Shape              Param #   \n",
            "=================================================================\n",
            "flatten_1 (Flatten)          (None, 784)               0         \n",
            "_________________________________________________________________\n",
            "dense_3 (Dense)              (None, 20)                15700     \n",
            "_________________________________________________________________\n",
            "dense_4 (Dense)              (None, 20)                420       \n",
            "_________________________________________________________________\n",
            "dense_5 (Dense)              (None, 10)                210       \n",
            "=================================================================\n",
            "Total params: 16,330\n",
            "Trainable params: 16,330\n",
            "Non-trainable params: 0\n",
            "_________________________________________________________________\n"
          ],
          "name": "stdout"
        },
        {
          "output_type": "display_data",
          "data": {
            "image/png": "[encoded data removed]",
            "text/plain": [
              "<Figure size 432x288 with 2 Axes>"
            ]
          },
          "metadata": {
            "tags": [],
            "needs_background": "light"
          }
        }
      ]
    },
    {
      "cell_type": "code",
      "metadata": {
        "colab": {
          "base_uri": "https://localhost:8080/",
          "height": 561
        },
        "id": "AksDIXLtCa57",
        "outputId": "82d07893-321b-4418-9ba3-b07993f724d9"
      },
      "source": [
        "from tensorflow.keras.datasets import mnist\r\n",
        "from tensorflow.keras.models import load_model\r\n",
        "import matplotlib.pyplot as plt\r\n",
        "\r\n",
        "# MNIST 데이터셋 가져오기\r\n",
        "_, (x_test, y_test) = mnist.load_data()\r\n",
        "x_test = x_test / 255.0 # 데이터 정규화\r\n",
        "\r\n",
        "# 모델 불러오기\r\n",
        "model = load_model('mnist_model.h5')\r\n",
        "model.summary()\r\n",
        "model.evaluate(x_test, y_test, verbose=2)\r\n",
        "\r\n",
        "# 테스트셋에서 20번째 이미지 출력\r\n",
        "plt.imshow(x_test[20], cmap=\"gray\")\r\n",
        "plt.show()"
      ],
      "execution_count": 5,
      "outputs": [
        {
          "output_type": "stream",
          "text": [
            "Model: \"sequential_1\"\n",
            "_________________________________________________________________\n",
            "Layer (type)                 Output Shape              Param #   \n",
            "=================================================================\n",
            "flatten_1 (Flatten)          (None, 784)               0         \n",
            "_________________________________________________________________\n",
            "dense_3 (Dense)              (None, 20)                15700     \n",
            "_________________________________________________________________\n",
            "dense_4 (Dense)              (None, 20)                420       \n",
            "_________________________________________________________________\n",
            "dense_5 (Dense)              (None, 10)                210       \n",
            "=================================================================\n",
            "Total params: 16,330\n",
            "Trainable params: 16,330\n",
            "Non-trainable params: 0\n",
            "_________________________________________________________________\n",
            "313/313 - 0s - loss: 0.1819 - accuracy: 0.9464\n"
          ],
          "name": "stdout"
        },
        {
          "output_type": "display_data",
          "data": {
            "image/png": "[encoded data removed]",
            "text/plain": [
              "<Figure size 432x288 with 1 Axes>"
            ]
          },
          "metadata": {
            "tags": [],
            "needs_background": "light"
          }
        }
      ]
    }
  ]
}