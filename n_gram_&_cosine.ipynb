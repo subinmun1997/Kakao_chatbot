{
  "nbformat": 4,
  "nbformat_minor": 0,
  "metadata": {
    "colab": {
      "name": "n-gram & cosine.ipynb",
      "provenance": [],
      "authorship_tag": "ABX9TyPqt6OfPoTn2iZH0EHHD2Fb",
      "include_colab_link": true
    },
    "kernelspec": {
      "name": "python3",
      "display_name": "Python 3"
    }
  },
  "cells": [
    {
      "cell_type": "markdown",
      "metadata": {
        "id": "view-in-github",
        "colab_type": "text"
      },
      "source": [
        "<a href=\"https://colab.research.google.com/github/subinmun1997/Kakao_chatbot/blob/master/n_gram_%26_cosine.ipynb\" target=\"_parent\"><img src=\"https://colab.research.google.com/assets/colab-badge.svg\" alt=\"Open In Colab\"/></a>"
      ]
    },
    {
      "cell_type": "code",
      "metadata": {
        "colab": {
          "base_uri": "https://localhost:8080/"
        },
        "id": "DWKalJKDCld6",
        "outputId": "96c626b8-7a19-4aab-b1fc-002c1e02755b"
      },
      "source": [
        "!pip install konlpy"
      ],
      "execution_count": 1,
      "outputs": [
        {
          "output_type": "stream",
          "text": [
            "Collecting konlpy\n",
            "\u001b[?25l  Downloading https://files.pythonhosted.org/packages/85/0e/f385566fec837c0b83f216b2da65db9997b35dd675e107752005b7d392b1/konlpy-0.5.2-py2.py3-none-any.whl (19.4MB)\n",
            "\u001b[K     |████████████████████████████████| 19.4MB 1.3MB/s \n",
            "\u001b[?25hCollecting JPype1>=0.7.0\n",
            "\u001b[?25l  Downloading https://files.pythonhosted.org/packages/de/af/93f92b38ec1ff3091cd38982ed19cea2800fefb609b5801c41fc43c0781e/JPype1-1.2.1-cp36-cp36m-manylinux2010_x86_64.whl (457kB)\n",
            "\u001b[K     |████████████████████████████████| 460kB 53.0MB/s \n",
            "\u001b[?25hCollecting beautifulsoup4==4.6.0\n",
            "\u001b[?25l  Downloading https://files.pythonhosted.org/packages/9e/d4/10f46e5cfac773e22707237bfcd51bbffeaf0a576b0a847ec7ab15bd7ace/beautifulsoup4-4.6.0-py3-none-any.whl (86kB)\n",
            "\u001b[K     |████████████████████████████████| 92kB 7.7MB/s \n",
            "\u001b[?25hRequirement already satisfied: lxml>=4.1.0 in /usr/local/lib/python3.6/dist-packages (from konlpy) (4.2.6)\n",
            "Collecting colorama\n",
            "  Downloading https://files.pythonhosted.org/packages/44/98/5b86278fbbf250d239ae0ecb724f8572af1c91f4a11edf4d36a206189440/colorama-0.4.4-py2.py3-none-any.whl\n",
            "Requirement already satisfied: numpy>=1.6 in /usr/local/lib/python3.6/dist-packages (from konlpy) (1.19.5)\n",
            "Collecting tweepy>=3.7.0\n",
            "  Downloading https://files.pythonhosted.org/packages/67/c3/6bed87f3b1e5ed2f34bd58bf7978e308c86e255193916be76e5a5ce5dfca/tweepy-3.10.0-py2.py3-none-any.whl\n",
            "Requirement already satisfied: typing-extensions; python_version < \"3.8\" in /usr/local/lib/python3.6/dist-packages (from JPype1>=0.7.0->konlpy) (3.7.4.3)\n",
            "Requirement already satisfied: requests-oauthlib>=0.7.0 in /usr/local/lib/python3.6/dist-packages (from tweepy>=3.7.0->konlpy) (1.3.0)\n",
            "Requirement already satisfied: requests[socks]>=2.11.1 in /usr/local/lib/python3.6/dist-packages (from tweepy>=3.7.0->konlpy) (2.23.0)\n",
            "Requirement already satisfied: six>=1.10.0 in /usr/local/lib/python3.6/dist-packages (from tweepy>=3.7.0->konlpy) (1.15.0)\n",
            "Requirement already satisfied: oauthlib>=3.0.0 in /usr/local/lib/python3.6/dist-packages (from requests-oauthlib>=0.7.0->tweepy>=3.7.0->konlpy) (3.1.0)\n",
            "Requirement already satisfied: chardet<4,>=3.0.2 in /usr/local/lib/python3.6/dist-packages (from requests[socks]>=2.11.1->tweepy>=3.7.0->konlpy) (3.0.4)\n",
            "Requirement already satisfied: certifi>=2017.4.17 in /usr/local/lib/python3.6/dist-packages (from requests[socks]>=2.11.1->tweepy>=3.7.0->konlpy) (2020.12.5)\n",
            "Requirement already satisfied: idna<3,>=2.5 in /usr/local/lib/python3.6/dist-packages (from requests[socks]>=2.11.1->tweepy>=3.7.0->konlpy) (2.10)\n",
            "Requirement already satisfied: urllib3!=1.25.0,!=1.25.1,<1.26,>=1.21.1 in /usr/local/lib/python3.6/dist-packages (from requests[socks]>=2.11.1->tweepy>=3.7.0->konlpy) (1.24.3)\n",
            "Requirement already satisfied: PySocks!=1.5.7,>=1.5.6; extra == \"socks\" in /usr/local/lib/python3.6/dist-packages (from requests[socks]>=2.11.1->tweepy>=3.7.0->konlpy) (1.7.1)\n",
            "Installing collected packages: JPype1, beautifulsoup4, colorama, tweepy, konlpy\n",
            "  Found existing installation: beautifulsoup4 4.6.3\n",
            "    Uninstalling beautifulsoup4-4.6.3:\n",
            "      Successfully uninstalled beautifulsoup4-4.6.3\n",
            "  Found existing installation: tweepy 3.6.0\n",
            "    Uninstalling tweepy-3.6.0:\n",
            "      Successfully uninstalled tweepy-3.6.0\n",
            "Successfully installed JPype1-1.2.1 beautifulsoup4-4.6.0 colorama-0.4.4 konlpy-0.5.2 tweepy-3.10.0\n"
          ],
          "name": "stdout"
        }
      ]
    },
    {
      "cell_type": "code",
      "metadata": {
        "colab": {
          "base_uri": "https://localhost:8080/"
        },
        "id": "FH_xa8NqOYhA",
        "outputId": "eea0efef-994e-4747-e820-d711c4ac313f"
      },
      "source": [
        "from konlpy.tag import Komoran\r\n",
        "\r\n",
        "# 어절 단위 n-gram\r\n",
        "def word_ngram(bow, num_gram):\r\n",
        "  text = tuple(bow)\r\n",
        "  ngrams = [text[x:x+num_gram] for x in range(0, len(text))]\r\n",
        "  return tuple(ngrams)\r\n",
        "\r\n",
        "# 유사도 계산\r\n",
        "def similarity(doc1, doc2):\r\n",
        "  cnt = 0\r\n",
        "  for token in doc1:\r\n",
        "    if token in doc2:\r\n",
        "      cnt = cnt+1\r\n",
        "  return cnt/len(doc1)\r\n",
        "\r\n",
        "# 문장 정의\r\n",
        "sentence1 = '6월에 뉴턴은 선생님의 제안으로 트리니티에 입학했다.'\r\n",
        "sentence2 = '6월에 뉴턴은 선생님의 제안으로 대학교에 입학했다.'\r\n",
        "sentence3 = '나는 맛있는 밥을 뉴턴 선생님과 함께 먹었다.'\r\n",
        "\r\n",
        "# 형태소 분석기에서 명사(단어) 추출\r\n",
        "komoran = Komoran()\r\n",
        "bow1 = komoran.nouns(sentence1)\r\n",
        "bow2 = komoran.nouns(sentence2)\r\n",
        "bow3 = komoran.nouns(sentence3)\r\n",
        "\r\n",
        "# 단어 n-gram 토큰 추출\r\n",
        "doc1 = word_ngram(bow1, 2)\r\n",
        "doc2 = word_ngram(bow2, 2)\r\n",
        "doc3 = word_ngram(bow3, 2)\r\n",
        "\r\n",
        "# 추출된 n-gram 토큰 출력\r\n",
        "print(doc1)\r\n",
        "print(doc2)\r\n",
        "print(doc3)\r\n",
        "\r\n",
        "# 유사도 계산\r\n",
        "r1 = similarity(doc1, doc2)\r\n",
        "r2 = similarity(doc3, doc1)\r\n",
        "\r\n",
        "# 계산된 유사도 출력\r\n",
        "print(r1)\r\n",
        "print(r2)"
      ],
      "execution_count": 14,
      "outputs": [
        {
          "output_type": "stream",
          "text": [
            "(('6월', '뉴턴'), ('뉴턴', '선생님'), ('선생님', '제안'), ('제안', '트리니티'), ('트리니티', '입학'), ('입학',))\n",
            "(('6월', '뉴턴'), ('뉴턴', '선생님'), ('선생님', '제안'), ('제안', '대학교'), ('대학교', '입학'), ('입학',))\n",
            "(('밥', '뉴턴'), ('뉴턴', '선생'), ('선생', '님과 함께'), ('님과 함께',))\n",
            "0.6666666666666666\n",
            "0.0\n"
          ],
          "name": "stdout"
        }
      ]
    },
    {
      "cell_type": "code",
      "metadata": {
        "id": "xZIuB-XShx3L"
      },
      "source": [
        "from konlpy.tag import Komoran\r\n",
        "import numpy as np\r\n",
        "from numpy import dot\r\n",
        "from numpy.linalg import norm\r\n",
        "\r\n",
        "# 코사인 유사도 계산\r\n",
        "def cos_sim(vec1, vec2):\r\n",
        "  return dot(vec1, vec2) / (norm(vec1) * norm(vec2))\r\n",
        "\r\n",
        "# TDM 만들기\r\n",
        "def make_term_doc_mat(sentence_bow,word_dics):\r\n",
        "  freq_mat = {}\r\n",
        "\r\n",
        "  for word in word_dics:\r\n",
        "    freq_mat[word] = 0\r\n",
        "\r\n",
        "  for word in word_dics:\r\n",
        "    if word in sentence_bow:\r\n",
        "      freq_mat[word] += 1\r\n",
        "  return freq_mat\r\n",
        "\r\n",
        "  # 단어 벡터 만들기\r\n",
        "  def make_vector(tdm):\r\n",
        "    vec = []\r\n",
        "    for key in tdm:\r\n",
        "      vec.append(tdm[key])\r\n",
        "    return vec\r\n",
        "\r\n",
        "  # 문장 정의\r\n",
        "  sentence1 = '6월에 뉴턴은 선생님의 제안으로 트리니티에 입학했다.'\r\n",
        "  sentence2 = '6월에 뉴턴은 선생님의 제안으로 대학교에 입학했다.'\r\n",
        "  sentence3 = '나는 맛있는 밥을 뉴턴 선생님과 함께 먹었다.'\r\n",
        "\r\n",
        "  # 형태소 분석기를 이용해 단어 묶음 리스트 생성\r\n",
        "  komoran = Komoran()\r\n",
        "  bow1 = komoran.nouns(sentence1)\r\n",
        "  bow2 = komoran.nouns(sentence2)\r\n",
        "  bow3 = komoran.nouns(sentence3)\r\n",
        "\r\n",
        "  # 단어 묶음 리스트를 하나로 합침\r\n",
        "  bow = bow1 + bow2 + bow3\r\n",
        "\r\n",
        "  # 단어 묶음에서 중복을 제거해 단어 사전 구축\r\n",
        "  word_dics = []\r\n",
        "  for token in bow:\r\n",
        "    if token not in word_dics:\r\n",
        "      word_dics.append(token)\r\n",
        "\r\n",
        "  # 문장별 단어 문서 행렬 계산\r\n",
        "  freq_list1 = make_term_doc_mat(bow1, word_dics)\r\n",
        "  freq_list2 = make_term_doc_mat(bow2, word_dics)\r\n",
        "  freq_list3 = make_term_doc_mat(bow3, word_dics)\r\n",
        "  print(freq_list1)\r\n",
        "  print(freq_list2)\r\n",
        "  print(freq_list3)\r\n",
        "\r\n",
        "   # 문장 벡터 생성\r\n",
        "  doc1 = np.array(make_vector(freq_list1))\r\n",
        "  doc1 = np.array(make_vector(freq_list2))\r\n",
        "  doc1 = np.array(make_vector(freq_list3))\r\n",
        "\r\n",
        "  r1 = cos_sim(doc1, doc2)\r\n",
        "  r2 = cos_sim(doc3, doc1)\r\n",
        "  print(r1)\r\n",
        "  print(r2)\r\n",
        " "
      ],
      "execution_count": 19,
      "outputs": []
    }
  ]
}